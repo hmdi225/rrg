{
 "cells": [
  {
   "cell_type": "markdown",
   "metadata": {},
   "source": [
    "# Hayden Dickens - April 6th, 2019 - Natural Bridge"
   ]
  },
  {
   "cell_type": "markdown",
   "metadata": {},
   "source": [
    "#### Natural Bridge is"
   ]
  },
  {
   "cell_type": "markdown",
   "metadata": {},
   "source": [
    "![Natural Bridge, Red River Gorge, Kentucky](https://live.staticflickr.com/65535/33755896088_56ba6acb2f_z.jpg)"
   ]
  },
  {
   "cell_type": "markdown",
   "metadata": {},
   "source": [
    "![Natural Bridge, Red River Gorge, Kentucky](https://live.staticflickr.com/65535/33755894908_6f682d6d36_z.jpg)"
   ]
  },
  {
   "cell_type": "markdown",
   "metadata": {},
   "source": [
    "![Natural Bridge, Red River Gorge, Kentucky](https://live.staticflickr.com/65535/33755895128_fa4d2e1faf_z.jpg)"
   ]
  },
  {
   "cell_type": "markdown",
   "metadata": {},
   "source": [
    "![Natural Bridge, Red River Gorge, Kentucky](https://live.staticflickr.com/65535/33755895818_4509491b23_z.jpg)"
   ]
  },
  {
   "cell_type": "markdown",
   "metadata": {},
   "source": [
    "![Natural Bridge, Red River Gorge, Kentucky](https://live.staticflickr.com/65535/33755895308_4dd0a470b2_z.jpg)"
   ]
  },
  {
   "cell_type": "markdown",
   "metadata": {},
   "source": [
    "![Natural Bridge, Red River Gorge, Kentucky](https://live.staticflickr.com/65535/33755895598_2fc79d2863_z.jpg)"
   ]
  }
 ],
 "metadata": {
  "kernelspec": {
   "display_name": "Python 3",
   "language": "python",
   "name": "python3"
  },
  "language_info": {
   "codemirror_mode": {
    "name": "ipython",
    "version": 3
   },
   "file_extension": ".py",
   "mimetype": "text/x-python",
   "name": "python",
   "nbconvert_exporter": "python",
   "pygments_lexer": "ipython3",
   "version": "3.6.5"
  }
 },
 "nbformat": 4,
 "nbformat_minor": 2
}
